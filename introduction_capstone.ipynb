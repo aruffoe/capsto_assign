{
 "cells": [
  {
   "cell_type": "markdown",
   "metadata": {},
   "source": [
    "# Introduction\n",
    "\n",
    "## Background \n",
    "The housing market in Toronto is increasing day by day and many people consider buying a new house as an investment. Many second-home buyers intend to rent their new property and renting to university/college students might be very profitable. However, if the intention of the buyer is to rent to young people then it is fundamental to pick a location that provides different amenities and in a walking distance as grocery stores, pharmacies, fast food and entertainments.\n",
    "\n",
    "## Project\n",
    "In this project we intend to provide a potential buyer different locations in Toronto where he/she can invest his/her money. In order to do that, we will use all the available information that can be found through Foursquare. We want to help a new buyer in \n",
    "\n",
    "1. location close to university\n",
    "2. location close to stores selling food -pharmacy\n",
    "3. location close to entertainment\n"
   ]
  },
  {
   "cell_type": "code",
   "execution_count": null,
   "metadata": {},
   "outputs": [],
   "source": []
  }
 ],
 "metadata": {
  "kernelspec": {
   "display_name": "Python",
   "language": "python",
   "name": "conda-env-python-py"
  },
  "language_info": {
   "codemirror_mode": {
    "name": "ipython",
    "version": 3
   },
   "file_extension": ".py",
   "mimetype": "text/x-python",
   "name": "python",
   "nbconvert_exporter": "python",
   "pygments_lexer": "ipython3",
   "version": "3.6.7"
  }
 },
 "nbformat": 4,
 "nbformat_minor": 4
}
